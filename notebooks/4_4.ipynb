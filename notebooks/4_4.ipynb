{
 "cells": [
  {
   "cell_type": "code",
   "execution_count": 1,
   "metadata": {},
   "outputs": [],
   "source": [
    "# ---------------------------------------------------------------------------\n",
    "# 1) Imports\n",
    "# ---------------------------------------------------------------------------\n",
    "import numpy as np\n",
    "import matplotlib.pyplot as plt\n",
    "import torch\n",
    "import torch.nn.functional as F\n",
    "from scipy.stats import norm\n",
    "import time\n",
    "import pandas as pd"
   ]
  },
  {
   "cell_type": "code",
   "execution_count": 2,
   "metadata": {},
   "outputs": [],
   "source": [
    "# Import your modules\n",
    "import os\n",
    "os.chdir('/Users/jingyizhang/Desktop/MA4288O/deephedging/MA4288O-Project')\n",
    "\n",
    "from market.heston import simulate_two_assets\n",
    "from utils.networks import RecurrentHedgeModel\n",
    "from utils.multi_networks import RecurrentHedgeModel5D\n",
    "from optimizer.hedge_train_5d import train_5D_cvar, compute_5D_pnl\n",
    "from optimizer.hedge_train import DeepHedgeCVaRTrainer\n",
    "\n",
    "device = torch.device(\"cuda\" if torch.cuda.is_available() else \"cpu\")"
   ]
  },
  {
   "cell_type": "code",
   "execution_count": 3,
   "metadata": {},
   "outputs": [
    {
     "name": "stdout",
     "output_type": "stream",
     "text": [
      "Simulated shape: (10000, 31, 2)\n"
     ]
    }
   ],
   "source": [
    "# 🧪 Simulate 2 correlated assets\n",
    "num_paths = 10_000  # Reduced for stability\n",
    "num_steps = 30\n",
    "T = 30 / 365\n",
    "dt = T / num_steps\n",
    "\n",
    "S_np, V_np = simulate_two_assets(n_paths=num_paths, n_steps=num_steps, dt=dt)\n",
    "print(\"Simulated shape:\", S_np.shape)  # (paths, steps+1, 2)\n",
    "\n",
    "# 💰 Payoff: European call on asset 1\n",
    "K = 100\n",
    "Z_np = np.maximum(S_np[:, -1, 0] - K, 0)\n",
    "\n",
    "# Convert to torch\n",
    "S_torch_1D = torch.from_numpy(S_np[:, :, 0:1]).float().to(device)\n",
    "S_torch_2D = torch.from_numpy(S_np).float().to(device)\n",
    "Z_torch = torch.from_numpy(Z_np).float().to(device)"
   ]
  },
  {
   "cell_type": "code",
   "execution_count": null,
   "metadata": {},
   "outputs": [
    {
     "name": "stdout",
     "output_type": "stream",
     "text": [
      "Epoch 1/5 | Loss: 18.2325 | p0: 2.0000\n",
      "Epoch 2/5 | Loss: 13.0672 | p0: 2.0000\n",
      "Epoch 3/5 | Loss: 8.8957 | p0: 2.0000\n",
      "Epoch 4/5 | Loss: 4.9691 | p0: 2.0000\n",
      "Epoch 5/5 | Loss: 2.5762 | p0: 2.0000\n"
     ]
    }
   ],
   "source": [
    "# 🧠 Train single-asset hedge (safe config)\n",
    "num_steps = S_torch_1D.shape[1] - 1\n",
    "model_1D = RecurrentHedgeModel(steps=num_steps, hidden_dim=16).to(device)  # ↓ hidden dim\n",
    "\n",
    "trainer_1D = DeepHedgeCVaRTrainer(model=model_1D, alpha=0.5)\n",
    "start = time.time()\n",
    "q_1D = trainer_1D.train(\n",
    "    S_tensor=S_torch_1D,\n",
    "    Z_tensor=Z_torch,\n",
    "    p0_init=2.0,\n",
    "    n_epochs=5,\n",
    "    batch_size=1024\n",
    ")\n",
    "with torch.no_grad():\n",
    "    deltas_1D = model_1D(S_torch_1D)\n",
    "    Sdiff = S_torch_1D[:, 1:] - S_torch_1D[:, :-1]\n",
    "    gains = torch.sum(deltas_1D * Sdiff, dim=1)\n",
    "    pnl_1D = (q_1D - Z_torch + gains).cpu().numpy()\n",
    "end = time.time()\n",
    "time_1D = end - start"
   ]
  },
  {
   "cell_type": "code",
   "execution_count": 5,
   "metadata": {},
   "outputs": [],
   "source": [
    "from utils.multi_networks import RecurrentHedgeModel2D\n",
    "from optimizer.hedge_train import cvar_loss_canonical"
   ]
  },
  {
   "cell_type": "code",
   "execution_count": 6,
   "metadata": {},
   "outputs": [],
   "source": [
    "# 🧠 Train 2-asset hedge\n",
    "\n",
    "model_2D = RecurrentHedgeModel2D(steps=num_steps, in_dim=4, hidden_dim=32, out_dim=2).to(device)\n",
    "\n",
    "start = time.time()\n",
    "q_2D = train_5D_cvar(\n",
    "    model_2D,\n",
    "    S_tensor=S_torch_2D,\n",
    "    payoff_tensor=Z_torch,\n",
    "    alpha=0.5,\n",
    "    lr=1e-3,\n",
    "    p0_init=q_1D,\n",
    "    n_epochs=5,\n",
    "    batch_size=4096\n",
    ")\n",
    "time_2D = time.time() - start\n",
    "\n",
    "with torch.no_grad():\n",
    "    deltas_2D = model_2D(S_torch_2D)\n",
    "    pnl_2D = compute_5D_pnl(q_2D, Z_torch, deltas_2D, S_torch_2D).cpu().numpy()"
   ]
  },
  {
   "cell_type": "code",
   "execution_count": 7,
   "metadata": {},
   "outputs": [
    {
     "name": "stdout",
     "output_type": "stream",
     "text": [
      "\n",
      "🔍 Multi-Asset Hedge Comparison:\n",
      "\n",
      "                   Mean PnL  Std PnL       MSHE CVaR (0.5) Price (q) Time (s)\n",
      "Single-Asset Hedge  -0.3011   3.0266     9.2511    -0.2988    2.0000    12.97\n",
      "Two-Asset Hedge      0.0375  74.9112  5611.6890   -58.9197    2.0150     0.75\n"
     ]
    }
   ],
   "source": [
    "# 📈 Compute and compare metrics\n",
    "def empirical_cvar(pnl, alpha=0.5):\n",
    "    pnl_sorted = np.sort(pnl)\n",
    "    idx = int(len(pnl) * alpha)\n",
    "    return np.mean(pnl_sorted[:idx])\n",
    "\n",
    "results = {\n",
    "    \"Single-Asset Hedge\": {\n",
    "        \"pnl\": pnl_1D,\n",
    "        \"price\": q_1D,\n",
    "        \"time\": time_1D\n",
    "    },\n",
    "    \"Two-Asset Hedge\": {\n",
    "        \"pnl\": pnl_2D,\n",
    "        \"price\": q_2D,\n",
    "        \"time\": time_2D\n",
    "    }\n",
    "}\n",
    "\n",
    "for name, res in results.items():\n",
    "    pnl = res[\"pnl\"]\n",
    "    res[\"mean\"] = np.mean(pnl)\n",
    "    res[\"std\"] = np.std(pnl)\n",
    "    res[\"mshe\"] = np.mean(pnl**2)\n",
    "    res[\"cvar\"] = empirical_cvar(pnl, alpha=0.5)\n",
    "\n",
    "summary_df = pd.DataFrame({\n",
    "    name: {\n",
    "        \"Mean PnL\": f\"{res['mean']:.4f}\",\n",
    "        \"Std PnL\": f\"{res['std']:.4f}\",\n",
    "        \"MSHE\": f\"{res['mshe']:.4f}\",\n",
    "        \"CVaR (0.5)\": f\"{res['cvar']:.4f}\",\n",
    "        \"Price (q)\": f\"{res['price']:.4f}\",\n",
    "        \"Time (s)\": f\"{res['time']:.2f}\"\n",
    "    }\n",
    "    for name, res in results.items()\n",
    "}).T\n",
    "\n",
    "print(\"\\n🔍 Multi-Asset Hedge Comparison:\\n\")\n",
    "print(summary_df)"
   ]
  },
  {
   "cell_type": "code",
   "execution_count": 8,
   "metadata": {},
   "outputs": [
    {
     "data": {
      "image/png": "[encoded data removed]",
      "text/plain": [
       "<Figure size 1000x600 with 1 Axes>"
      ]
     },
     "metadata": {},
     "output_type": "display_data"
    }
   ],
   "source": [
    "# 📊 PnL Histogram\n",
    "def plot_hist(pnl1, pnl2, label1, label2, bins=60, x_range=(-10,10)):\n",
    "    counts1, edges = np.histogram(pnl1, bins=bins, range=x_range)\n",
    "    counts2, _     = np.histogram(pnl2, bins=edges)\n",
    "    centers = 0.5 * (edges[:-1] + edges[1:])\n",
    "    width = (edges[1] - edges[0]) / 3.0\n",
    "\n",
    "    plt.figure(figsize=(10,6))\n",
    "    plt.bar(centers - width/2, counts1, width=width, alpha=0.6, label=label1)\n",
    "    plt.bar(centers + width/2, counts2, width=width, alpha=0.6, label=label2)\n",
    "    plt.xlabel(\"Terminal Hedging PnL\")\n",
    "    plt.ylabel(\"Frequency\")\n",
    "    plt.title(\"Single vs Two-Asset Hedge Performance\")\n",
    "    plt.legend()\n",
    "    plt.grid(True)\n",
    "    plt.show()\n",
    "\n",
    "plot_hist(pnl_1D, pnl_2D, \"Single-Asset Hedge\", \"Two-Asset Hedge\")"
   ]
  },
  {
   "cell_type": "code",
   "execution_count": null,
   "metadata": {},
   "outputs": [],
   "source": []
  },
  {
   "cell_type": "code",
   "execution_count": null,
   "metadata": {},
   "outputs": [],
   "source": []
  },
  {
   "cell_type": "code",
   "execution_count": null,
   "metadata": {},
   "outputs": [],
   "source": []
  },
  {
   "cell_type": "code",
   "execution_count": null,
   "metadata": {},
   "outputs": [],
   "source": []
  }
 ],
 "metadata": {
  "kernelspec": {
   "display_name": "Python 3",
   "language": "python",
   "name": "python3"
  },
  "language_info": {
   "codemirror_mode": {
    "name": "ipython",
    "version": 3
   },
   "file_extension": ".py",
   "mimetype": "text/x-python",
   "name": "python",
   "nbconvert_exporter": "python",
   "pygments_lexer": "ipython3",
   "version": "3.9.6"
  }
 },
 "nbformat": 4,
 "nbformat_minor": 2
}
