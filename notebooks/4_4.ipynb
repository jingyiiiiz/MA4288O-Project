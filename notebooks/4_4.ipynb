{
 "cells": [
  {
   "cell_type": "code",
   "execution_count": 11,
   "metadata": {},
   "outputs": [],
   "source": [
    "# ---------------------------------------------------------------------------\n",
    "# 1) Imports\n",
    "# ---------------------------------------------------------------------------\n",
    "import numpy as np\n",
    "import matplotlib.pyplot as plt\n",
    "import torch\n",
    "import torch.nn.functional as F\n",
    "from scipy.stats import norm\n",
    "import os\n",
    "import pandas as pd"
   ]
  },
  {
   "cell_type": "code",
   "execution_count": 12,
   "metadata": {},
   "outputs": [],
   "source": [
    "# Import your modules\n",
    "import os\n",
    "os.chdir('/Users/jingyizhang/Desktop/MA4288O/deephedging/MA4288O-Project')\n",
    "\n",
    "from market.heston import HestonModel\n",
    "from market.heston import make_varianceswap_paths\n",
    "from payoff.european_option import european_call_payoff\n",
    "from utils.networks import MultiAssetHedgeModel, RecurrentHedgeModel\n",
    "from optimizer.hedge_train import DeepHedgeCVaRTrainer2Asset, DeepHedgeCVaRTrainer  # or the approach you prefer"
   ]
  },
  {
   "cell_type": "code",
   "execution_count": 13,
   "metadata": {},
   "outputs": [],
   "source": [
    "# 1) Simulate\n",
    "heston = HestonModel(\n",
    "    s0=100.0,     # initial spot\n",
    "    v0=0.04,      # initial variance\n",
    "    kappa=1.5,    # mean reversion speed\n",
    "    theta=0.04,   # long-term variance (mean reversion level)\n",
    "    xi=0.5,       # vol-of-vol\n",
    "    rho=-0.7,     # correlation between Brownian shocks\n",
    "    r=0.0,        # risk-free rate\n",
    "    dt=1.0/365.0, # daily time step\n",
    "    # seed=1234     # random seed for reproducibility\n",
    ")\n",
    "S_np, V_np = heston.simulate_paths(n_paths=100000, n_steps=30)\n",
    "vsw_np = make_varianceswap_paths(S_np, V_np, dt=heston.dt)\n",
    "# shape => (n_paths, n_steps+1)\n",
    "# stack them to shape => (n_paths, n_steps+1, 2)\n",
    "market_np = np.stack([S_np, vsw_np], axis=-1)"
   ]
  },
  {
   "cell_type": "code",
   "execution_count": 14,
   "metadata": {},
   "outputs": [],
   "source": [
    "# 2) Payoff\n",
    "K=100.0\n",
    "Z_np = european_call_payoff(S_np, K=K)\n",
    "\n",
    "# Convert to torch\n",
    "device = torch.device(\"cuda\" if torch.cuda.is_available() else \"cpu\")\n",
    "market_torch = torch.from_numpy(market_np).float().to(device)\n",
    "Z_torch = torch.from_numpy(Z_np).float().to(device)\n",
    "\n",
    "S_torch = torch.from_numpy(S_np).float().to(device)"
   ]
  },
  {
   "cell_type": "code",
   "execution_count": 15,
   "metadata": {},
   "outputs": [
    {
     "name": "stdout",
     "output_type": "stream",
     "text": [
      "Epoch 1/5 | Loss: 3.5888 | p0: 0.0000\n",
      "Epoch 2/5 | Loss: 3.5356 | p0: 0.0000\n",
      "Epoch 3/5 | Loss: 3.5312 | p0: 0.0000\n",
      "Epoch 4/5 | Loss: 3.5708 | p0: 0.0000\n",
      "Epoch 5/5 | Loss: 3.5472 | p0: 0.0000\n"
     ]
    }
   ],
   "source": [
    "alpha = 0.5\n",
    "\n",
    "num_steps = S_torch.shape[1] - 1\n",
    "\n",
    "recurrent_model = RecurrentHedgeModel(steps=num_steps, hidden_dim=32).to(device)\n",
    "\n",
    "trainer_rec = DeepHedgeCVaRTrainer(\n",
    "    model=recurrent_model, \n",
    "    loss_function=\"cvar\", \n",
    "    alpha=alpha\n",
    ")\n",
    "\n",
    "import time\n",
    "start = time.time()\n",
    "p0_rec = trainer_rec.train(\n",
    "    S_tensor=S_torch,\n",
    "    Z_tensor=Z_torch,\n",
    "    p0_init=0.0,\n",
    "    n_epochs=5,\n",
    "    batch_size=4096\n",
    ")\n",
    "end = time.time()\n",
    "time_rec = end - start"
   ]
  },
  {
   "cell_type": "code",
   "execution_count": 16,
   "metadata": {},
   "outputs": [],
   "source": [
    "# Evaluate model performance (no gradient computation needed)\n",
    "with torch.no_grad():\n",
    "    deltas_rec = recurrent_model(S_torch)\n",
    "    Sdiff = S_torch[:, 1:] - S_torch[:, :-1]  \n",
    "    gains_rec = torch.sum(deltas_rec * Sdiff, dim=1)\n",
    "    pnl_rec = (trainer_rec.p0 - Z_torch + gains_rec).cpu().numpy()"
   ]
  },
  {
   "cell_type": "code",
   "execution_count": 17,
   "metadata": {},
   "outputs": [
    {
     "name": "stdout",
     "output_type": "stream",
     "text": [
      "Learned hedge cost p0 = 0.24500036239624023\n"
     ]
    }
   ],
   "source": [
    "# 3) Build multi-asset net & train\n",
    "model_ma = MultiAssetHedgeModel(steps=num_steps, in_dim=4, hidden_dim=32, out_dim=2).to(device)\n",
    "trainer_ma = DeepHedgeCVaRTrainer2Asset(model_ma, alpha=0.5, lr=1e-3)\n",
    "\n",
    "start = time.time()\n",
    "p0 = trainer_ma.train(market_torch, Z_torch, p0_init=0.0, n_epochs=5, batch_size=2048)\n",
    "end = time.time()\n",
    "time_ma = end - start\n",
    "print(\"Learned hedge cost p0 =\", p0)"
   ]
  },
  {
   "cell_type": "code",
   "execution_count": 18,
   "metadata": {},
   "outputs": [],
   "source": [
    "# Evaluate final distribution\n",
    "with torch.no_grad():\n",
    "    deltas = model_ma(market_torch)\n",
    "    # compute final PnL\n",
    "    from optimizer.hedge_train import compute_2instrument_pnl\n",
    "    pnl_torch = compute_2instrument_pnl(trainer_ma.p0, Z_torch, deltas, market_torch)\n",
    "pnl_np = pnl_torch.cpu().numpy()"
   ]
  },
  {
   "cell_type": "code",
   "execution_count": 19,
   "metadata": {},
   "outputs": [
    {
     "name": "stdout",
     "output_type": "stream",
     "text": [
      "\n",
      "🔍 Multi-Asset Hedge Comparison:\n",
      "\n",
      "                 Mean PnL  Std PnL    MSHE  CVaR (0.5)  CVaR (0.99)  Price (q)\n",
      "Recurrent Hedge   -2.2438   1.6476  7.7490     -3.5472      -7.9216      0.000\n",
      "2-Asset Hedge     -1.9847   1.7076  6.8548     -3.3316      -7.7898      0.245\n"
     ]
    }
   ],
   "source": [
    "import pandas as pd\n",
    "import numpy as np\n",
    "\n",
    "def compute_cvar(pnl, alpha):\n",
    "    \"\"\"\n",
    "    Computes empirical CVaR at the given alpha level.\n",
    "    \"\"\"\n",
    "    quantile = np.percentile(pnl, 100 * (1 - alpha))\n",
    "    cvar = pnl[pnl <= quantile].mean()\n",
    "    return cvar\n",
    "\n",
    "# 📊 Compute All Metrics\n",
    "metrics = {\n",
    "    \"Recurrent Hedge\": {\n",
    "        \"Mean PnL\": np.mean(pnl_rec),\n",
    "        \"Std PnL\": np.std(pnl_rec),\n",
    "        \"MSHE\": np.mean(pnl_rec**2),\n",
    "        \"CVaR (0.5)\": compute_cvar(pnl_rec, alpha=0.5),\n",
    "        \"CVaR (0.99)\": compute_cvar(pnl_rec, alpha=0.99),\n",
    "        \"Price (q)\": p0_rec,\n",
    "    },\n",
    "    \"2-Asset Hedge\": {\n",
    "        \"Mean PnL\": np.mean(pnl_np),\n",
    "        \"Std PnL\": np.std(pnl_np),\n",
    "        \"MSHE\": np.mean(pnl_np**2),\n",
    "        \"CVaR (0.5)\": compute_cvar(pnl_np, alpha=0.5),\n",
    "        \"CVaR (0.99)\": compute_cvar(pnl_np, alpha=0.99),\n",
    "        \"Price (q)\": p0,\n",
    "    }\n",
    "}\n",
    "\n",
    "# 🧾 Show in Table\n",
    "metrics_df = pd.DataFrame(metrics).T\n",
    "print(\"\\n🔍 Multi-Asset Hedge Comparison:\\n\")\n",
    "print(metrics_df.round(4))"
   ]
  },
  {
   "cell_type": "code",
   "execution_count": 20,
   "metadata": {},
   "outputs": [],
   "source": [
    "def plot_side_by_side_hist(pnl1, pnl2, label1=\"Strategy A\", label2=\"Strategy B\",\n",
    "                           bins=20, x_range=(-10, 10), title=None, save_path=None):\n",
    "    \"\"\"\n",
    "    Plot side-by-side histograms for two PnL distributions with aligned bins.\n",
    "    \n",
    "    Args:\n",
    "        pnl1, pnl2: numpy arrays of PnL values.\n",
    "        label1, label2: labels for the two strategies.\n",
    "        bins: number of histogram bins (default is 20 for wider bins).\n",
    "        x_range: tuple, (min, max) for histogram x-axis.\n",
    "        title: custom plot title. If None, generates one automatically.\n",
    "        save_path: optional file path to save the plot.\n",
    "    \"\"\"\n",
    "    counts1, edges = np.histogram(pnl1, bins=bins, range=x_range)\n",
    "    counts2, _     = np.histogram(pnl2, bins=edges)\n",
    "\n",
    "    centers = 0.5 * (edges[:-1] + edges[1:])\n",
    "    width   = (edges[1] - edges[0]) / 3.0\n",
    "\n",
    "    plt.figure(figsize=(10, 6))\n",
    "    plt.bar(centers - width/2, counts1, width=width, alpha=0.6, label=label1, color='tab:blue')\n",
    "    plt.bar(centers + width/2, counts2, width=width, alpha=0.6, label=label2, color='tab:orange')\n",
    "\n",
    "    plt.xlabel(\"Terminal Hedging PnL\", fontsize=14)\n",
    "    plt.ylabel(\"Frequency\", fontsize=14)\n",
    "    plt.title(title or f\"Side-by-side PnL Histogram: {label1} vs. {label2}\")\n",
    "    plt.legend(fontsize=12)\n",
    "    plt.grid(True)\n",
    "    plt.xticks(fontsize=12)\n",
    "    plt.yticks(fontsize=12)\n",
    "\n",
    "    if save_path:\n",
    "        plt.savefig(save_path, dpi=300, bbox_inches='tight')\n",
    "    plt.show()"
   ]
  },
  {
   "cell_type": "code",
   "execution_count": 21,
   "metadata": {},
   "outputs": [
    {
     "data": {
      "image/png": "[encoded data removed]",
      "text/plain": [
       "<Figure size 1000x600 with 1 Axes>"
      ]
     },
     "metadata": {},
     "output_type": "display_data"
    }
   ],
   "source": [
    "plot_side_by_side_hist(\n",
    "    pnl1=pnl_rec,\n",
    "    pnl2=pnl_np,\n",
    "    label1=\"Recurrent Hedge\",\n",
    "    label2=\"2-Asset Hedge\",\n",
    "    bins=30,\n",
    "    x_range=(-10, 10),\n",
    "    title=\" \"\n",
    ")"
   ]
  }
 ],
 "metadata": {
  "kernelspec": {
   "display_name": "Python 3",
   "language": "python",
   "name": "python3"
  },
  "language_info": {
   "codemirror_mode": {
    "name": "ipython",
    "version": 3
   },
   "file_extension": ".py",
   "mimetype": "text/x-python",
   "name": "python",
   "nbconvert_exporter": "python",
   "pygments_lexer": "ipython3",
   "version": "3.9.6"
  }
 },
 "nbformat": 4,
 "nbformat_minor": 2
}
