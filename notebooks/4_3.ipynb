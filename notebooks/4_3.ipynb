{
 "cells": [
  {
   "cell_type": "code",
   "execution_count": 1,
   "metadata": {},
   "outputs": [],
   "source": [
    "# ---------------------------------------------------------------------------\n",
    "# 1) Imports\n",
    "# ---------------------------------------------------------------------------\n",
    "import numpy as np\n",
    "import matplotlib.pyplot as plt\n",
    "import torch\n",
    "import torch.nn.functional as F\n",
    "from scipy.stats import norm"
   ]
  },
  {
   "cell_type": "code",
   "execution_count": 2,
   "metadata": {},
   "outputs": [
    {
     "name": "stdout",
     "output_type": "stream",
     "text": [
      "Using device: cpu\n"
     ]
    }
   ],
   "source": [
    "# Import your modules\n",
    "import os\n",
    "os.chdir('/Users/jingyizhang/Desktop/MA4288O/deephedging/MA4288O-Project')\n",
    "\n",
    "# Import your own modules:\n",
    "from market.heston import HestonModel\n",
    "# For the neural net strategies:\n",
    "from utils.networks import RecurrentHedgeModel, SimpleHedgeModel\n",
    "# For training loops & loss:\n",
    "from optimizer.hedge_train import DeepHedgeCVaRTrainer  # or whatever class name you used\n",
    "# from optimizer.loss_functions import cvar_loss  # if needed for direct calls\n",
    "from payoff.european_option import european_call_payoff  # <-- IMPORTANT\n",
    "\n",
    "device = torch.device(\"cuda\" if torch.cuda.is_available() else \"cpu\")\n",
    "print(\"Using device:\", device)"
   ]
  },
  {
   "cell_type": "code",
   "execution_count": 3,
   "metadata": {},
   "outputs": [],
   "source": [
    "# ---------------------------------------------------------------------------\n",
    "# 2) Optional: Model Hedge (e.g. Black-Scholes) function\n",
    "# ---------------------------------------------------------------------------\n",
    "def black_scholes_call_price_delta(S0, K, T, sigma):\n",
    "    \"\"\"\n",
    "    For r=0. Returns (price, delta).\n",
    "    \"\"\"\n",
    "    d1 = (np.log(S0/K) + 0.5*sigma**2*T)/(sigma*np.sqrt(T))\n",
    "    d2 = d1 - sigma*np.sqrt(T)\n",
    "\n",
    "    price = S0*norm.cdf(d1) - K*norm.cdf(d2)\n",
    "    delta = norm.cdf(d1)\n",
    "    return price, delta\n",
    "\n",
    "def compute_model_hedge_pnl(q, Z, delta_const, S_paths):\n",
    "    \"\"\"\n",
    "    frictionless PnL = q - Z + delta_const * sum_{k=0}^{n-1} [S_{k+1}-S_k].\n",
    "    \"\"\"\n",
    "    S_diff = S_paths[:,1:] - S_paths[:,:-1]  # shape (n_paths, n_steps)\n",
    "    gains = delta_const * np.sum(S_diff, axis=1)\n",
    "    pnl = q - Z + gains\n",
    "    return pnl"
   ]
  },
  {
   "cell_type": "code",
   "execution_count": 4,
   "metadata": {},
   "outputs": [],
   "source": [
    "def empirical_cvar(pnl, alpha=0.5):\n",
    "    pnl_sorted = np.sort(pnl)\n",
    "    idx = int(len(pnl) * alpha)\n",
    "    return np.mean(pnl_sorted[:idx])"
   ]
  },
  {
   "cell_type": "code",
   "execution_count": 5,
   "metadata": {},
   "outputs": [
    {
     "name": "stdout",
     "output_type": "stream",
     "text": [
      "Simulated S_paths shape: (200000, 31)\n",
      "Payoff shape: (200000,)\n"
     ]
    }
   ],
   "source": [
    "# ----------------------------------------------------------------------------\n",
    "# 3) Simulation Setup\n",
    "# ----------------------------------------------------------------------------\n",
    "num_paths = 200_000\n",
    "num_steps = 30\n",
    "T = 30/365  # 30 days\n",
    "\n",
    "heston = HestonModel(\n",
    "    s0=100.0,\n",
    "    v0=0.04,\n",
    "    kappa=1.5,\n",
    "    theta=0.04,\n",
    "    xi=0.5,\n",
    "    rho=-0.7,\n",
    "    r=0.0,\n",
    "    dt=T/num_steps,\n",
    "    seed=1234\n",
    ")\n",
    "\n",
    "S_paths_np, V_paths_np = heston.simulate_paths(n_paths=num_paths, n_steps=num_steps)\n",
    "print(\"Simulated S_paths shape:\", S_paths_np.shape)\n",
    "\n",
    "K = 100.0\n",
    "Z_np = european_call_payoff(S_paths_np, K=K)\n",
    "print(\"Payoff shape:\", Z_np.shape)\n",
    "\n",
    "# Convert to torch\n",
    "S_torch = torch.from_numpy(S_paths_np).float().to(device)\n",
    "Z_torch = torch.from_numpy(Z_np).float().to(device)\n",
    "\n",
    "# These tensors will be used later in training"
   ]
  },
  {
   "cell_type": "code",
   "execution_count": 6,
   "metadata": {},
   "outputs": [
    {
     "name": "stdout",
     "output_type": "stream",
     "text": [
      "Model Hedge Stats:\n",
      "  mean PnL = 0.04533853082149925\n",
      "  std PnL  = 1.7444771163482315\n"
     ]
    }
   ],
   "source": [
    "# ----------------------------------------------------------------------------\n",
    "# 4) Model Hedge\n",
    "# ----------------------------------------------------------------------------\n",
    "sigma_guess = 0.2\n",
    "q_bs, delta_bs = black_scholes_call_price_delta(S0=100.0, K=K, T=T, sigma=sigma_guess)\n",
    "\n",
    "# Convert q_bs to tensor for consistency in training\n",
    "p0_init = torch.tensor([q_bs], dtype=torch.float32, device=S_torch.device)\n",
    "\n",
    "model_pnl = compute_model_hedge_pnl(q_bs, Z_np, delta_bs, S_paths_np)\n",
    "print(\"Model Hedge Stats:\")\n",
    "print(\"  mean PnL =\", model_pnl.mean())\n",
    "print(\"  std PnL  =\", model_pnl.std())"
   ]
  },
  {
   "cell_type": "code",
   "execution_count": 7,
   "metadata": {},
   "outputs": [],
   "source": [
    "import time"
   ]
  },
  {
   "cell_type": "code",
   "execution_count": 8,
   "metadata": {},
   "outputs": [
    {
     "name": "stdout",
     "output_type": "stream",
     "text": [
      "Epoch 1/5 | Loss: 1.2393 | p0: 2.2872\n",
      "Epoch 2/5 | Loss: 1.1890 | p0: 2.2872\n",
      "Epoch 3/5 | Loss: 1.2100 | p0: 2.2872\n",
      "Epoch 4/5 | Loss: 1.1728 | p0: 2.2872\n",
      "Epoch 5/5 | Loss: 1.1545 | p0: 2.2872\n",
      "Recurrent Hedge Price p0_rec = 2.2872\n"
     ]
    }
   ],
   "source": [
    "# ----------------------------------------------------------------------------\n",
    "# 5) Train Recurrent Hedge under CVaR alpha=0.5\n",
    "# ----------------------------------------------------------------------------\n",
    "import torch\n",
    "\n",
    "# Ensure tensors are on the correct device\n",
    "S_torch = S_torch.to(device)\n",
    "Z_torch = Z_torch.to(device)\n",
    "\n",
    "# Define CVaR risk level\n",
    "alpha = 0.5  \n",
    "\n",
    "# Ensure num_steps is defined\n",
    "num_steps = S_torch.shape[1] - 1  \n",
    "\n",
    "# Initialize Recurrent Hedge Model (now using shared architecture)\n",
    "recurrent_model = RecurrentHedgeModel(steps=num_steps, hidden_dim=32).to(device)\n",
    "\n",
    "# Use the updated DeepHedgeCVaRTrainer\n",
    "trainer_rec = DeepHedgeCVaRTrainer(\n",
    "    model=recurrent_model, \n",
    "    loss_function=\"cvar\", \n",
    "    alpha=alpha\n",
    ")\n",
    "\n",
    "start = time.time()\n",
    "\n",
    "# Train the model using p0_init from Black-Scholes\n",
    "p0_rec = trainer_rec.train(\n",
    "    S_tensor=S_torch,\n",
    "    Z_tensor=Z_torch,\n",
    "    p0_init=p0_init,  # <- tensor from earlier\n",
    "    n_epochs=5,\n",
    "    batch_size=4096\n",
    ")\n",
    "training_time_recurrent = time.time() - start\n",
    "\n",
    "print(f\"Recurrent Hedge Price p0_rec = {p0_rec:.4f}\")\n",
    "\n",
    "# Evaluate model performance (no gradient computation needed)\n",
    "with torch.no_grad():\n",
    "    deltas_rec = recurrent_model(S_torch)\n",
    "    Sdiff = S_torch[:, 1:] - S_torch[:, :-1]  \n",
    "    gains_rec = torch.sum(deltas_rec * Sdiff, dim=1)\n",
    "    pnl_rec = (trainer_rec.p0 - Z_torch + gains_rec).cpu().numpy()\n"
   ]
  },
  {
   "cell_type": "code",
   "execution_count": 9,
   "metadata": {},
   "outputs": [
    {
     "name": "stdout",
     "output_type": "stream",
     "text": [
      "Epoch 1/5 | Loss: 117.2907 | p0: 2.2872\n",
      "Epoch 2/5 | Loss: 153.5916 | p0: 2.2872\n",
      "Epoch 3/5 | Loss: 290.8821 | p0: 2.2872\n",
      "Epoch 4/5 | Loss: 79.0352 | p0: 2.2872\n",
      "Epoch 5/5 | Loss: 112.8866 | p0: 2.2872\n",
      "99%-CVaR Hedge Price p0_rec_99 = 2.2872\n"
     ]
    }
   ],
   "source": [
    "# Define a higher risk aversion level (alpha = 0.99 for 99%-CVaR)\n",
    "alpha_99 = 0.99  \n",
    "\n",
    "# Initialize and train the model under 99%-CVaR\n",
    "recurrent_model_99 = RecurrentHedgeModel(steps=num_steps, hidden_dim=32).to(device)\n",
    "trainer_rec_99 = DeepHedgeCVaRTrainer(model=recurrent_model_99, loss_function=\"cvar\", alpha=alpha_99)\n",
    "\n",
    "start = time.time()\n",
    "\n",
    "p0_rec_99 = trainer_rec_99.train(\n",
    "    S_tensor=S_torch,\n",
    "    Z_tensor=Z_torch,\n",
    "    p0_init=q_bs,  \n",
    "    n_epochs=5,\n",
    "    batch_size=4096\n",
    ")\n",
    "\n",
    "training_time_recurrent_99 = time.time() - start\n",
    "\n",
    "print(f\"99%-CVaR Hedge Price p0_rec_99 = {p0_rec_99:.4f}\")\n",
    "\n",
    "# Compute PnL for 99%-CVaR hedge\n",
    "with torch.no_grad():\n",
    "    deltas_rec_99 = recurrent_model_99(S_torch)\n",
    "    Sdiff_99 = S_torch[:, 1:] - S_torch[:, :-1]\n",
    "    gains_rec_99 = torch.sum(deltas_rec_99 * Sdiff_99, dim=1)\n",
    "    pnl_rec_99 = (trainer_rec_99.p0 - Z_torch + gains_rec_99).cpu().numpy()\n"
   ]
  },
  {
   "cell_type": "code",
   "execution_count": 11,
   "metadata": {},
   "outputs": [],
   "source": [
    "import pandas as pd"
   ]
  },
  {
   "cell_type": "code",
   "execution_count": 12,
   "metadata": {},
   "outputs": [
    {
     "name": "stdout",
     "output_type": "stream",
     "text": [
      "\n",
      "🔍 Hedging Strategy Comparison:\n",
      "\n",
      "          Mean PnL Std PnL    MSHE CVaR (0.5) Price (q) Time (s)\n",
      "0.5 CVaR    0.0450  1.4915  2.2267    -1.1545    2.2872    12.77\n",
      "0.99 CVaR   0.0469  2.2803  5.2020    -1.4223    2.2872    13.30\n"
     ]
    }
   ],
   "source": [
    "# ---------------------------------------------------------------------------\n",
    "# 6) Metrics Collection\n",
    "# ---------------------------------------------------------------------------\n",
    "results = {\n",
    "    \"0.5 CVaR\": {\n",
    "        \"pnl\": pnl_rec,\n",
    "        \"price\": p0_rec,\n",
    "        \"time\": training_time_recurrent\n",
    "    },\n",
    "    \"0.99 CVaR\": {\n",
    "        \"pnl\": pnl_rec_99,\n",
    "        \"price\": p0_rec_99,\n",
    "        \"time\": training_time_recurrent_99\n",
    "    },\n",
    "}\n",
    "\n",
    "for name, res in results.items():\n",
    "    pnl = res[\"pnl\"]\n",
    "    res[\"mean\"] = np.mean(pnl)\n",
    "    res[\"std\"] = np.std(pnl)\n",
    "    res[\"mshe\"] = np.mean(pnl**2)\n",
    "    res[\"cvar\"] = empirical_cvar(pnl, alpha=0.5)\n",
    "\n",
    "summary_df = pd.DataFrame({\n",
    "    name: {\n",
    "        \"Mean PnL\": f\"{res['mean']:.4f}\",\n",
    "        \"Std PnL\": f\"{res['std']:.4f}\",\n",
    "        \"MSHE\": f\"{res['mshe']:.4f}\",\n",
    "        \"CVaR (0.5)\": f\"{res['cvar']:.4f}\",\n",
    "        \"Price (q)\": f\"{res['price']:.4f}\",\n",
    "        \"Time (s)\": f\"{res.get('time', float('nan')):.2f}\"\n",
    "    }\n",
    "    for name, res in results.items()\n",
    "}).T\n",
    "\n",
    "print(\"\\n🔍 Hedging Strategy Comparison:\\n\")\n",
    "print(summary_df)"
   ]
  },
  {
   "cell_type": "code",
   "execution_count": 13,
   "metadata": {},
   "outputs": [],
   "source": [
    "def plot_side_by_side_hist(pnl1, pnl2, label1=\"Strategy A\", label2=\"Strategy B\",\n",
    "                           bins=20, x_range=(-10, 10), title=None, save_path=None):\n",
    "    \"\"\"\n",
    "    Plot side-by-side histograms for two PnL distributions with aligned bins.\n",
    "    \n",
    "    Args:\n",
    "        pnl1, pnl2: numpy arrays of PnL values.\n",
    "        label1, label2: labels for the two strategies.\n",
    "        bins: number of histogram bins (default is 20 for wider bins).\n",
    "        x_range: tuple, (min, max) for histogram x-axis.\n",
    "        title: custom plot title. If None, generates one automatically.\n",
    "        save_path: optional file path to save the plot.\n",
    "    \"\"\"\n",
    "    counts1, edges = np.histogram(pnl1, bins=bins, range=x_range)\n",
    "    counts2, _     = np.histogram(pnl2, bins=edges)\n",
    "\n",
    "    centers = 0.5 * (edges[:-1] + edges[1:])\n",
    "    width   = (edges[1] - edges[0]) / 3.0\n",
    "\n",
    "    plt.figure(figsize=(10, 6))\n",
    "    plt.bar(centers - width/2, counts1, width=width, alpha=0.6, label=label1, color='tab:blue')\n",
    "    plt.bar(centers + width/2, counts2, width=width, alpha=0.6, label=label2, color='tab:orange')\n",
    "\n",
    "    plt.xlabel(\"Terminal Hedging PnL\", fontsize=14)\n",
    "    plt.ylabel(\"Frequency\", fontsize=14)\n",
    "    plt.title(title or f\"Side-by-side PnL Histogram: {label1} vs. {label2}\")\n",
    "    plt.legend(fontsize=12)\n",
    "    plt.grid(True)\n",
    "    plt.xticks(fontsize=12)\n",
    "    plt.yticks(fontsize=12)\n",
    "\n",
    "    if save_path:\n",
    "        plt.savefig(save_path, dpi=300, bbox_inches='tight')\n",
    "    plt.show()\n"
   ]
  },
  {
   "cell_type": "code",
   "execution_count": 14,
   "metadata": {},
   "outputs": [
    {
     "data": {
      "image/png": "[encoded data removed]",
      "text/plain": [
       "<Figure size 1000x600 with 1 Axes>"
      ]
     },
     "metadata": {},
     "output_type": "display_data"
    }
   ],
   "source": [
    "plot_side_by_side_hist(\n",
    "    pnl1=pnl_rec,\n",
    "    pnl2=pnl_rec_99,\n",
    "    label1=\"CVaR 0.5 Hedge\",\n",
    "    label2=\"CVaR 0.99 Hedge\",\n",
    "    bins=30,\n",
    "    x_range=(-10, 10),\n",
    "    title=\" \"\n",
    ")"
   ]
  },
  {
   "cell_type": "code",
   "execution_count": 23,
   "metadata": {},
   "outputs": [
    {
     "data": {
      "image/png": "[encoded data removed]",
      "text/plain": [
       "<Figure size 1000x600 with 1 Axes>"
      ]
     },
     "metadata": {},
     "output_type": "display_data"
    }
   ],
   "source": [
    "pnl_rec_99_scaled = pnl_rec_99 / np.std(pnl_rec_99)\n",
    "pnl_rec_scaled = pnl_rec / np.std(pnl_rec)\n",
    "plot_side_by_side_hist(\n",
    "    pnl1=pnl_rec_scaled,\n",
    "    pnl2=pnl_rec_99_scaled,\n",
    "    label1=\"CVaR 0.5 Hedge\",\n",
    "    label2=\"CVaR 0.99 Hedge\",\n",
    "    bins=30,\n",
    "    x_range=(-10, 10),\n",
    "    title=\" \"\n",
    ")"
   ]
  },
  {
   "cell_type": "code",
   "execution_count": null,
   "metadata": {},
   "outputs": [],
   "source": []
  },
  {
   "cell_type": "code",
   "execution_count": 12,
   "metadata": {},
   "outputs": [
    {
     "ename": "TypeError",
     "evalue": "__init__() missing 1 required positional argument: 'model'",
     "output_type": "error",
     "traceback": [
      "\u001b[0;31m---------------------------------------------------------------------------\u001b[0m",
      "\u001b[0;31mTypeError\u001b[0m                                 Traceback (most recent call last)",
      "Cell \u001b[0;32mIn[12], line 27\u001b[0m\n\u001b[1;32m     23\u001b[0m \u001b[38;5;66;03m# ----------------------------------------------------------------------------\u001b[39;00m\n\u001b[1;32m     24\u001b[0m \u001b[38;5;66;03m# Train under alpha = 0.5\u001b[39;00m\n\u001b[1;32m     25\u001b[0m \u001b[38;5;66;03m# ----------------------------------------------------------------------------\u001b[39;00m\n\u001b[1;32m     26\u001b[0m rec_model_05 \u001b[38;5;241m=\u001b[39m RecurrentHedgeModel(steps\u001b[38;5;241m=\u001b[39mnum_steps, hidden_dim\u001b[38;5;241m=\u001b[39m\u001b[38;5;241m32\u001b[39m)\u001b[38;5;241m.\u001b[39mto(device)\n\u001b[0;32m---> 27\u001b[0m trainer_05 \u001b[38;5;241m=\u001b[39m \u001b[43mDeepHedgeCVaRTrainer\u001b[49m\u001b[43m(\u001b[49m\u001b[43malpha\u001b[49m\u001b[38;5;241;43m=\u001b[39;49m\u001b[38;5;241;43m0.5\u001b[39;49m\u001b[43m)\u001b[49m\n\u001b[1;32m     28\u001b[0m trainer_05\u001b[38;5;241m.\u001b[39mmodel \u001b[38;5;241m=\u001b[39m rec_model_05\n\u001b[1;32m     29\u001b[0m trainer_05\u001b[38;5;241m.\u001b[39mlr \u001b[38;5;241m=\u001b[39m \u001b[38;5;241m1e-3\u001b[39m\n",
      "\u001b[0;31mTypeError\u001b[0m: __init__() missing 1 required positional argument: 'model'"
     ]
    }
   ],
   "source": [
    "# 4.3.1: Compare CVaR(0.99) vs CVaR(0.5) for Recurrent Hedge\n",
    "\n",
    "import torch\n",
    "import time\n",
    "import numpy as np\n",
    "import pandas as pd\n",
    "import matplotlib.pyplot as plt\n",
    "\n",
    "from utils.networks import RecurrentHedgeModel\n",
    "from optimizer.hedge_train import DeepHedgeCVaRTrainer\n",
    "\n",
    "def empirical_cvar(pnl, alpha=0.5):\n",
    "    pnl_sorted = np.sort(pnl)\n",
    "    idx = int(len(pnl) * alpha)\n",
    "    return np.mean(pnl_sorted[:idx])\n",
    "\n",
    "# Ensure tensors are on the correct device\n",
    "S_torch = S_torch.to(device)\n",
    "Z_torch = Z_torch.to(device)\n",
    "\n",
    "num_steps = S_torch.shape[1] - 1\n",
    "\n",
    "# ----------------------------------------------------------------------------\n",
    "# Train under alpha = 0.5\n",
    "# ----------------------------------------------------------------------------\n",
    "rec_model_05 = RecurrentHedgeModel(steps=num_steps, hidden_dim=32).to(device)\n",
    "trainer_05 = DeepHedgeCVaRTrainer(alpha=0.5)\n",
    "trainer_05.model = rec_model_05\n",
    "trainer_05.lr = 1e-3\n",
    "trainer_05.n_epochs = 5\n",
    "\n",
    "start = time.time()\n",
    "q_05, pnl_05, _, _ = trainer_05.train(S_torch, Z_torch)\n",
    "time_05 = time.time() - start\n",
    "\n",
    "# ----------------------------------------------------------------------------\n",
    "# Train under alpha = 0.99\n",
    "# ----------------------------------------------------------------------------\n",
    "rec_model_99 = RecurrentHedgeModel(steps=num_steps, hidden_dim=32).to(device)\n",
    "trainer_99 = DeepHedgeCVaRTrainer(alpha=0.99)\n",
    "trainer_99.model = rec_model_99\n",
    "trainer_99.lr = 1e-3\n",
    "trainer_99.n_epochs = 5\n",
    "\n",
    "start = time.time()\n",
    "q_99, pnl_99, _, _ = trainer_99.train(S_torch, Z_torch)\n",
    "time_99 = time.time() - start\n",
    "\n",
    "# ----------------------------------------------------------------------------\n",
    "# Metrics\n",
    "# ----------------------------------------------------------------------------\n",
    "results = {\n",
    "    \"0.5-CVaR Hedge\": {\n",
    "        \"pnl\": pnl_05,\n",
    "        \"price\": q_05,\n",
    "        \"time\": time_05\n",
    "    },\n",
    "    \"0.99-CVaR Hedge\": {\n",
    "        \"pnl\": pnl_99,\n",
    "        \"price\": q_99,\n",
    "        \"time\": time_99\n",
    "    }\n",
    "}\n",
    "\n",
    "for name, res in results.items():\n",
    "    pnl = res[\"pnl\"]\n",
    "    res[\"mean\"] = np.mean(pnl)\n",
    "    res[\"std\"] = np.std(pnl)\n",
    "    res[\"mshe\"] = np.mean(pnl**2)\n",
    "    res[\"cvar\"] = empirical_cvar(pnl, alpha=0.5)\n",
    "\n",
    "summary_df = pd.DataFrame({\n",
    "    name: {\n",
    "        \"Mean PnL\": f\"{res['mean']:.4f}\",\n",
    "        \"Std PnL\": f\"{res['std']:.4f}\",\n",
    "        \"MSHE\": f\"{res['mshe']:.4f}\",\n",
    "        \"CVaR (0.5)\": f\"{res['cvar']:.4f}\",\n",
    "        \"Price (q)\": f\"{res['price']:.4f}\",\n",
    "        \"Time (s)\": f\"{res['time']:.2f}\"\n",
    "    }\n",
    "    for name, res in results.items()\n",
    "}).T\n",
    "\n",
    "print(\"\\n🔍 CVaR Hedge Comparison Metrics:\\n\")\n",
    "print(summary_df)\n",
    "\n",
    "# ----------------------------------------------------------------------------\n",
    "# PnL Histogram\n",
    "# ----------------------------------------------------------------------------\n",
    "def plot_cvar_hist(pnl1, pnl2, label1=\"CVaR 0.5\", label2=\"CVaR 0.99\", bins=60, x_range=(-10, 10)):\n",
    "    counts1, edges = np.histogram(pnl1, bins=bins, range=x_range)\n",
    "    counts2, _     = np.histogram(pnl2, bins=edges)\n",
    "\n",
    "    centers = 0.5 * (edges[:-1] + edges[1:])\n",
    "    width   = (edges[1] - edges[0]) / 3.0\n",
    "\n",
    "    plt.figure(figsize=(10,6))\n",
    "    plt.bar(centers - width/2, counts1, width=width, alpha=0.6, label=label1, color='tab:blue')\n",
    "    plt.bar(centers + width/2, counts2, width=width, alpha=0.6, label=label2, color='tab:orange')\n",
    "    plt.xlabel(\"Terminal Hedging PnL\")\n",
    "    plt.ylabel(\"Frequency\")\n",
    "    plt.title(\"PnL Distribution: CVaR 0.5 vs CVaR 0.99\")\n",
    "    plt.legend()\n",
    "    plt.grid(True)\n",
    "    plt.show()\n",
    "\n",
    "plot_cvar_hist(pnl_05, pnl_99)\n"
   ]
  },
  {
   "cell_type": "code",
   "execution_count": null,
   "metadata": {},
   "outputs": [],
   "source": []
  },
  {
   "cell_type": "code",
   "execution_count": null,
   "metadata": {},
   "outputs": [],
   "source": []
  }
 ],
 "metadata": {
  "kernelspec": {
   "display_name": "Python 3",
   "language": "python",
   "name": "python3"
  },
  "language_info": {
   "codemirror_mode": {
    "name": "ipython",
    "version": 3
   },
   "file_extension": ".py",
   "mimetype": "text/x-python",
   "name": "python",
   "nbconvert_exporter": "python",
   "pygments_lexer": "ipython3",
   "version": "3.9.6"
  }
 },
 "nbformat": 4,
 "nbformat_minor": 2
}
