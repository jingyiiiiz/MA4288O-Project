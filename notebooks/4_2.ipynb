{
 "cells": [
  {
   "cell_type": "code",
   "execution_count": 39,
   "metadata": {},
   "outputs": [],
   "source": [
    "# ---------------------------------------------------------------------------\n",
    "# 1) Imports\n",
    "# ---------------------------------------------------------------------------\n",
    "import numpy as np\n",
    "import matplotlib.pyplot as plt\n",
    "import torch\n",
    "import torch.nn.functional as F\n",
    "from scipy.stats import norm\n",
    "import time\n",
    "import pandas as pd"
   ]
  },
  {
   "cell_type": "code",
   "execution_count": 40,
   "metadata": {},
   "outputs": [
    {
     "name": "stdout",
     "output_type": "stream",
     "text": [
      "Using device: cpu\n"
     ]
    }
   ],
   "source": [
    "# Import your modules\n",
    "import os\n",
    "os.chdir('/Users/jingyizhang/Desktop/MA4288O/deephedging/MA4288O-Project')\n",
    "\n",
    "# Import your own modules:\n",
    "from market.heston import HestonModel\n",
    "# For the neural net strategies:\n",
    "from utils.networks import RecurrentHedgeModel, SimpleHedgeModel\n",
    "# For training loops & loss:\n",
    "from optimizer.hedge_train import DeepHedgeCVaRTrainer  # or whatever class name you used\n",
    "# from optimizer.loss_functions import cvar_loss  # if needed for direct calls\n",
    "from payoff.european_option import european_call_payoff  # <-- IMPORTANT\n",
    "\n",
    "device = torch.device(\"cuda\" if torch.cuda.is_available() else \"cpu\")\n",
    "print(\"Using device:\", device)"
   ]
  },
  {
   "cell_type": "code",
   "execution_count": 41,
   "metadata": {},
   "outputs": [],
   "source": [
    "# ---------------------------------------------------------------------------\n",
    "# 2) Black-Scholes Price and Delta Function\n",
    "# ---------------------------------------------------------------------------\n",
    "def black_scholes_call_price_delta(S0, K, T, sigma):\n",
    "    d1 = (np.log(S0/K) + 0.5*sigma**2*T)/(sigma*np.sqrt(T))\n",
    "    d2 = d1 - sigma*np.sqrt(T)\n",
    "    price = S0*norm.cdf(d1) - K*norm.cdf(d2)\n",
    "    delta = norm.cdf(d1)\n",
    "    return price, delta\n",
    "\n",
    "def compute_model_hedge_pnl(q, Z, delta_const, S_paths):\n",
    "    S_diff = S_paths[:,1:] - S_paths[:,:-1]\n",
    "    gains = delta_const * np.sum(S_diff, axis=1)\n",
    "    pnl = q - Z + gains\n",
    "    return pnl\n",
    "\n",
    "def empirical_cvar(pnl, alpha=0.5):\n",
    "    pnl_sorted = np.sort(pnl)\n",
    "    idx = int(len(pnl) * alpha)\n",
    "    return np.mean(pnl_sorted[:idx])"
   ]
  },
  {
   "cell_type": "code",
   "execution_count": 42,
   "metadata": {},
   "outputs": [],
   "source": [
    "# ---------------------------------------------------------------------------\n",
    "# 3) Simulation Setup\n",
    "# ---------------------------------------------------------------------------\n",
    "num_paths = 200_000\n",
    "num_steps = 30\n",
    "T = 30/365\n",
    "\n",
    "heston = HestonModel(\n",
    "    s0=100.0,\n",
    "    v0=0.04,\n",
    "    kappa=1.5,\n",
    "    theta=0.04,\n",
    "    xi=0.5,\n",
    "    rho=-0.7,\n",
    "    r=0.0,\n",
    "    dt=T/num_steps,\n",
    "    seed=1234\n",
    ")\n",
    "\n",
    "S_paths_np, V_paths_np = heston.simulate_paths(n_paths=num_paths, n_steps=num_steps)\n",
    "Z_np = european_call_payoff(S_paths_np, K=100.0)\n",
    "\n",
    "S_torch = torch.from_numpy(S_paths_np).float().to(device)\n",
    "Z_torch = torch.from_numpy(Z_np).float().to(device)"
   ]
  },
  {
   "cell_type": "code",
   "execution_count": 43,
   "metadata": {},
   "outputs": [],
   "source": [
    "sigma_guess = 0.2\n",
    "q_bs, delta_bs = black_scholes_call_price_delta(100.0, 100.0, T, sigma_guess)"
   ]
  },
  {
   "cell_type": "code",
   "execution_count": 50,
   "metadata": {},
   "outputs": [],
   "source": [
    "# ----------------------------------------------------------------------------\n",
    "# 5) Train Recurrent Hedge under CVaR alpha=0.5\n",
    "# ----------------------------------------------------------------------------\n",
    "import torch\n",
    "\n",
    "# Ensure tensors are on the correct device\n",
    "S_torch = S_torch.to(device)\n",
    "Z_torch = Z_torch.to(device)\n",
    "\n",
    "# Define CVaR risk level\n",
    "alpha = 0.5  \n",
    "\n",
    "# Ensure num_steps is defined\n",
    "num_steps = S_torch.shape[1] - 1  \n",
    "\n",
    "# Initialize Recurrent Hedge Model (now using shared architecture)\n",
    "recurrent_model = RecurrentHedgeModel(steps=num_steps, hidden_dim=32).to(device)\n",
    "\n",
    "# Use the updated DeepHedgeCVaRTrainer\n",
    "trainer_rec = DeepHedgeCVaRTrainer(\n",
    "    # model=recurrent_model, \n",
    "    # loss_function=\"cvar\", \n",
    "    alpha=alpha\n",
    ")\n",
    "trainer_rec = DeepHedgeCVaRTrainer(alpha=alpha)\n",
    "trainer_rec.model = recurrent_model\n",
    "trainer_rec.lr = 5e-3\n",
    "# trainer_rec.n_epochs = 2\n",
    "q_rec_bs, pnl_rec_bs, loss_history, q_history = trainer_rec.train(S_torch, Z_torch)\n"
   ]
  },
  {
   "cell_type": "code",
   "execution_count": 51,
   "metadata": {},
   "outputs": [],
   "source": [
    "# ----------------------------------------------------------------------------\n",
    "# 5) Train Simple Hedge\n",
    "# ----------------------------------------------------------------------------\n",
    "simple_model = SimpleHedgeModel(steps=steps, hidden_dim=16).to(device)\n",
    "trainer_simp = DeepHedgeCVaRTrainer(alpha=alpha)\n",
    "trainer_simp.model = simple_model\n",
    "trainer_simp.lr = 5e-3\n",
    "trainer_simp.n_epochs = 100\n",
    "q_simp, pnl_simp, loss_simp, _ = trainer_simp.train(S_torch, Z_torch)"
   ]
  },
  {
   "cell_type": "code",
   "execution_count": 53,
   "metadata": {},
   "outputs": [
    {
     "name": "stdout",
     "output_type": "stream",
     "text": [
      "\n",
      "🔍 NN Architecture Comparison Metrics:\n",
      "\n",
      "                Mean PnL Std PnL     MSHE CVaR (0.5) Price (q)\n",
      "Recurrent Hedge  -0.0000  4.1266  17.0285    -3.2676    2.2482\n",
      "Simple Hedge      0.0000  5.1321  26.3388    -4.1186    2.2505\n"
     ]
    }
   ],
   "source": [
    "# ----------------------------------------------------------------------------\n",
    "# 6) Metrics and Table\n",
    "# ----------------------------------------------------------------------------\n",
    "def empirical_cvar(pnl, alpha=0.5):\n",
    "    pnl_sorted = np.sort(pnl)\n",
    "    idx = int(len(pnl) * alpha)\n",
    "    return np.mean(pnl_sorted[:idx])\n",
    "\n",
    "results = {\n",
    "    \"Recurrent Hedge\": {\n",
    "        \"pnl\": pnl_rec_bs,\n",
    "        \"price\": q_rec_bs\n",
    "    },\n",
    "    \"Simple Hedge\": {\n",
    "        \"pnl\": pnl_simp,\n",
    "        \"price\": q_simp\n",
    "    }\n",
    "}\n",
    "\n",
    "for name, res in results.items():\n",
    "    pnl = res[\"pnl\"]\n",
    "    res[\"mean\"] = np.mean(pnl)\n",
    "    res[\"std\"] = np.std(pnl)\n",
    "    res[\"mshe\"] = np.mean(pnl**2)\n",
    "    res[\"cvar\"] = empirical_cvar(pnl)\n",
    "\n",
    "summary_df = pd.DataFrame({\n",
    "    name: {\n",
    "        \"Mean PnL\": f\"{res['mean']:.4f}\",\n",
    "        \"Std PnL\": f\"{res['std']:.4f}\",\n",
    "        \"MSHE\": f\"{res['mshe']:.4f}\",\n",
    "        \"CVaR (0.5)\": f\"{res['cvar']:.4f}\",\n",
    "        \"Price (q)\": f\"{res['price']:.4f}\"\n",
    "    }\n",
    "    for name, res in results.items()\n",
    "}).T\n",
    "\n",
    "print(\"\\n🔍 NN Architecture Comparison Metrics:\\n\")\n",
    "print(summary_df)\n"
   ]
  },
  {
   "cell_type": "code",
   "execution_count": null,
   "metadata": {},
   "outputs": [],
   "source": []
  },
  {
   "cell_type": "code",
   "execution_count": null,
   "metadata": {},
   "outputs": [],
   "source": []
  },
  {
   "cell_type": "code",
   "execution_count": 32,
   "metadata": {},
   "outputs": [],
   "source": [
    "# ----------------------------------------------------------------------------\n",
    "# 2) Simulation\n",
    "# ----------------------------------------------------------------------------\n",
    "device = torch.device(\"cuda\" if torch.cuda.is_available() else \"cpu\")\n",
    "\n",
    "T = 30 / 365\n",
    "num_steps = 30\n",
    "num_paths = 200_000\n",
    "K = 100.0\n",
    "\n",
    "heston = HestonModel(\n",
    "    s0=100.0,\n",
    "    v0=0.04,\n",
    "    kappa=1.5,\n",
    "    theta=0.04,\n",
    "    xi=0.5,\n",
    "    rho=-0.7,\n",
    "    r=0.0,\n",
    "    dt=T/num_steps,\n",
    "    seed=42\n",
    ")\n",
    "\n",
    "S_paths_np, _ = heston.simulate_paths(n_paths=num_paths, n_steps=num_steps)\n",
    "Z_np = european_call_payoff(S_paths_np, K=K)\n",
    "\n",
    "S_torch = torch.from_numpy(S_paths_np).float().to(device)\n",
    "Z_torch = torch.from_numpy(Z_np).float().to(device)\n"
   ]
  },
  {
   "cell_type": "code",
   "execution_count": null,
   "metadata": {},
   "outputs": [],
   "source": []
  },
  {
   "cell_type": "code",
   "execution_count": 33,
   "metadata": {},
   "outputs": [],
   "source": [
    "# ----------------------------------------------------------------------------\n",
    "# 3) Model Hedge Price (for p0_init)\n",
    "# ----------------------------------------------------------------------------\n",
    "from scipy.stats import norm\n",
    "\n",
    "def black_scholes_call_price(S0, K, T, sigma):\n",
    "    d1 = (np.log(S0/K) + 0.5*sigma**2*T)/(sigma*np.sqrt(T))\n",
    "    d2 = d1 - sigma*np.sqrt(T)\n",
    "    return S0 * norm.cdf(d1) - K * norm.cdf(d2)\n",
    "\n",
    "q_bs = black_scholes_call_price(100.0, K, T, sigma=0.2)"
   ]
  },
  {
   "cell_type": "code",
   "execution_count": 57,
   "metadata": {},
   "outputs": [],
   "source": [
    "# ----------------------------------------------------------------------------\n",
    "# 4) Train Recurrent Hedge\n",
    "# ----------------------------------------------------------------------------\n",
    "alpha = 0.5\n",
    "steps = S_torch.shape[1] - 1\n",
    "\n",
    "recurrent_model = RecurrentHedgeModel(steps=steps, hidden_dim=64).to(device)\n",
    "trainer_rec.n_epochs = 5\n",
    "trainer_rec = DeepHedgeCVaRTrainer(alpha=alpha)\n",
    "trainer_rec.model = recurrent_model\n",
    "trainer_rec.lr = 1e-3\n",
    "# trainer_rec.n_epochs = 2\n",
    "q_rec, pnl_rec, loss_rec, _ = trainer_rec.train(S_torch, Z_torch)"
   ]
  },
  {
   "cell_type": "code",
   "execution_count": 58,
   "metadata": {},
   "outputs": [],
   "source": [
    "# ----------------------------------------------------------------------------\n",
    "# 5) Train Simple Hedge\n",
    "# ----------------------------------------------------------------------------\n",
    "simple_model = SimpleHedgeModel(steps=steps, hidden_dim=16).to(device)\n",
    "trainer_simp = DeepHedgeCVaRTrainer(alpha=alpha)\n",
    "trainer_simp.model = simple_model\n",
    "trainer_simp.lr = 1e-3\n",
    "trainer_simp.n_epochs = 5\n",
    "q_simp, pnl_simp, loss_simp, _ = trainer_simp.train(S_torch, Z_torch)"
   ]
  },
  {
   "cell_type": "code",
   "execution_count": 59,
   "metadata": {},
   "outputs": [
    {
     "name": "stdout",
     "output_type": "stream",
     "text": [
      "\n",
      "🔍 NN Architecture Comparison Metrics:\n",
      "\n",
      "                Mean PnL Std PnL     MSHE CVaR (0.5) Price (q)\n",
      "Recurrent Hedge   0.0000  3.2019  10.2520    -2.4447    2.2461\n",
      "Simple Hedge     -0.0000  2.9914   8.9484    -2.2470    2.2455\n"
     ]
    }
   ],
   "source": [
    "# ----------------------------------------------------------------------------\n",
    "# 6) Metrics and Table\n",
    "# ----------------------------------------------------------------------------\n",
    "def empirical_cvar(pnl, alpha=0.5):\n",
    "    pnl_sorted = np.sort(pnl)\n",
    "    idx = int(len(pnl) * alpha)\n",
    "    return np.mean(pnl_sorted[:idx])\n",
    "\n",
    "results = {\n",
    "    \"Recurrent Hedge\": {\n",
    "        \"pnl\": pnl_rec,\n",
    "        \"price\": q_rec\n",
    "    },\n",
    "    \"Simple Hedge\": {\n",
    "        \"pnl\": pnl_simp,\n",
    "        \"price\": q_simp\n",
    "    }\n",
    "}\n",
    "\n",
    "for name, res in results.items():\n",
    "    pnl = res[\"pnl\"]\n",
    "    res[\"mean\"] = np.mean(pnl)\n",
    "    res[\"std\"] = np.std(pnl)\n",
    "    res[\"mshe\"] = np.mean(pnl**2)\n",
    "    res[\"cvar\"] = empirical_cvar(pnl)\n",
    "\n",
    "summary_df = pd.DataFrame({\n",
    "    name: {\n",
    "        \"Mean PnL\": f\"{res['mean']:.4f}\",\n",
    "        \"Std PnL\": f\"{res['std']:.4f}\",\n",
    "        \"MSHE\": f\"{res['mshe']:.4f}\",\n",
    "        \"CVaR (0.5)\": f\"{res['cvar']:.4f}\",\n",
    "        \"Price (q)\": f\"{res['price']:.4f}\"\n",
    "    }\n",
    "    for name, res in results.items()\n",
    "}).T\n",
    "\n",
    "print(\"\\n🔍 NN Architecture Comparison Metrics:\\n\")\n",
    "print(summary_df)\n"
   ]
  },
  {
   "cell_type": "code",
   "execution_count": 60,
   "metadata": {},
   "outputs": [],
   "source": [
    "def plot_side_by_side_hist(pnl1, pnl2, label1=\"Strategy A\", label2=\"Strategy B\",\n",
    "                           bins=20, x_range=(-10, 10), title=None, save_path=None):\n",
    "    \"\"\"\n",
    "    Plot side-by-side histograms for two PnL distributions with aligned bins.\n",
    "    \n",
    "    Args:\n",
    "        pnl1, pnl2: numpy arrays of PnL values.\n",
    "        label1, label2: labels for the two strategies.\n",
    "        bins: number of histogram bins (default is 20 for wider bins).\n",
    "        x_range: tuple, (min, max) for histogram x-axis.\n",
    "        title: custom plot title. If None, generates one automatically.\n",
    "        save_path: optional file path to save the plot.\n",
    "    \"\"\"\n",
    "    counts1, edges = np.histogram(pnl1, bins=bins, range=x_range)\n",
    "    counts2, _     = np.histogram(pnl2, bins=edges)\n",
    "\n",
    "    centers = 0.5 * (edges[:-1] + edges[1:])\n",
    "    width   = (edges[1] - edges[0]) / 3.0\n",
    "\n",
    "    plt.figure(figsize=(10, 6))\n",
    "    plt.bar(centers - width/2, counts1, width=width, alpha=0.6, label=label1, color='tab:blue')\n",
    "    plt.bar(centers + width/2, counts2, width=width, alpha=0.6, label=label2, color='tab:orange')\n",
    "\n",
    "    plt.xlabel(\"Terminal Hedging PnL\", fontsize=14)\n",
    "    plt.ylabel(\"Frequency\", fontsize=14)\n",
    "    plt.title(title or f\"Side-by-side PnL Histogram: {label1} vs. {label2}\")\n",
    "    plt.legend(fontsize=12)\n",
    "    plt.grid(True)\n",
    "    plt.xticks(fontsize=12)\n",
    "    plt.yticks(fontsize=12)\n",
    "\n",
    "    if save_path:\n",
    "        plt.savefig(save_path, dpi=300, bbox_inches='tight')\n",
    "    plt.show()\n"
   ]
  },
  {
   "cell_type": "code",
   "execution_count": 61,
   "metadata": {},
   "outputs": [
    {
     "data": {
      "image/png": "[encoded data removed]",
      "text/plain": [
       "<Figure size 1000x600 with 1 Axes>"
      ]
     },
     "metadata": {},
     "output_type": "display_data"
    }
   ],
   "source": [
    "plot_side_by_side_hist(\n",
    "    pnl1=pnl_rec_bs,\n",
    "    pnl2=pnl_simp,\n",
    "    label1=\"Recurrent Hedge\",\n",
    "    label2=\"Simple Hedge\",\n",
    "    bins=30,\n",
    "    x_range=(-10, 10),\n",
    "    title=\" \"\n",
    ")"
   ]
  },
  {
   "cell_type": "code",
   "execution_count": null,
   "metadata": {},
   "outputs": [],
   "source": []
  },
  {
   "cell_type": "code",
   "execution_count": null,
   "metadata": {},
   "outputs": [],
   "source": []
  },
  {
   "cell_type": "code",
   "execution_count": null,
   "metadata": {},
   "outputs": [],
   "source": []
  }
 ],
 "metadata": {
  "kernelspec": {
   "display_name": "Python 3",
   "language": "python",
   "name": "python3"
  },
  "language_info": {
   "codemirror_mode": {
    "name": "ipython",
    "version": 3
   },
   "file_extension": ".py",
   "mimetype": "text/x-python",
   "name": "python",
   "nbconvert_exporter": "python",
   "pygments_lexer": "ipython3",
   "version": "3.9.6"
  }
 },
 "nbformat": 4,
 "nbformat_minor": 2
}
